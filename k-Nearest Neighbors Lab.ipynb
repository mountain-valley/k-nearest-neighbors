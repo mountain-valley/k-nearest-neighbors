{
 "cells": [
  {
   "cell_type": "markdown",
   "metadata": {
    "id": "DVL7_bgmIAPR"
   },
   "source": [
    "# K-Nearest Neighbor Lab\n",
    "\n",
    "\n",
    "\n"
   ]
  },
  {
   "cell_type": "code",
   "execution_count": 1,
   "metadata": {
    "id": "6ZbYjZZZ_yLV"
   },
   "outputs": [],
   "source": [
    "from sklearn.base import BaseEstimator, ClassifierMixin\n",
    "from sklearn.neighbors import KNeighborsClassifier, KNeighborsRegressor\n",
    "import numpy as np\n",
    "import matplotlib.pyplot as plt\n",
    "from sklearn.model_selection import train_test_split\n",
    "from sklearn.utils import shuffle as sk_shuffle\n",
    "from scipy.io import arff"
   ]
  },
  {
   "cell_type": "code",
   "execution_count": 127,
   "metadata": {},
   "outputs": [
    {
     "name": "stdout",
     "output_type": "stream",
     "text": [
      "[2 1]\n"
     ]
    }
   ],
   "source": [
    "x = np.array([[1, 0, 0, 2], \n",
    "              [0, 5, 6, 4], \n",
    "              [7, 8, 9, 1]])\n",
    "y = np.array([2, 0, 1, 4])\n",
    "result = np.linalg.norm(x - y, ord=2, axis=1)\n",
    "\n",
    "x = x[:, [0, 2]]\n",
    "y = y[[0, 2]]\n",
    "print(y)\n"
   ]
  },
  {
   "cell_type": "code",
   "execution_count": 2,
   "metadata": {},
   "outputs": [],
   "source": [
    "from sklearn.preprocessing import LabelEncoder\n",
    "\n",
    "class arffLoader():\n",
    "  def arf_to_np(self, arf_path, data_type=float):\n",
    "      data_raw, meta = arff.loadarff(arf_path)\n",
    "      names = np.array(data_raw.dtype.names)\n",
    "      data_bytes = np.array(data_raw.tolist())\n",
    "      return data_bytes.astype(data_type), names\n",
    "\n",
    "  def split_x_y(self, array):\n",
    "      num_col = array.shape[1]\n",
    "      X = array[:, 0:num_col - 1]\n",
    "      y = array[:,-1]  # https://stackoverflow.com/questions/32764200/numpy-slicing-2d-row-or-column-vector-from-array\n",
    "      return X, y\n",
    "\n",
    "  def arf_to_x_y(self, arf_path, data_type=float, do_encode=False):\n",
    "        \"\"\"\n",
    "        :param arf_path:\n",
    "        :param data_type:\n",
    "        :param num_targets:\n",
    "        :param do_encode: bool, indicates whether or not the data should be encoded as continuous (go from nominal/categorical to continuous)\n",
    "        :return:\n",
    "        \"\"\"\n",
    "        data, names = self.arf_to_np(arf_path, data_type)\n",
    "        if do_encode:\n",
    "            le = LabelEncoder()\n",
    "            data = np.apply_along_axis(le.fit_transform, 0, data)\n",
    "        X, y = self.split_x_y(data)\n",
    "        return X, y, names"
   ]
  },
  {
   "cell_type": "markdown",
   "metadata": {
    "id": "sCcEPx5VIORj"
   },
   "source": [
    "## 1. (40%) Correctly implement the k-nearest neighbor (KNN) algorithm and the KNN regression algorithm\n",
    "\n",
    "### Code requirements\n",
    "- Use Euclidean distance to decide closest neighbors. \n",
    "- Include optional distance weighting for both algorithms\n"
   ]
  },
  {
   "cell_type": "code",
   "execution_count": 113,
   "metadata": {
    "id": "_a2KSZ_7AN0G"
   },
   "outputs": [],
   "source": [
    "class KNNClassifier(BaseEstimator,ClassifierMixin):\n",
    "    def __init__(self, columntype=[], weight_type='inverse_distance', regression=False, n_neighbors=5, p=2, normalize=False): ## add parameters here\n",
    "        \"\"\"\n",
    "        Args:\n",
    "            columntype for each column tells you if continues[real] or if nominal[categoritcal].\n",
    "            weight_type: inverse_distance voting or if non distance weighting. Options = [\"no_weight\",\"inverse_distance\"]\n",
    "        \"\"\"\n",
    "        self.columntype = columntype #Note This won't be needed until part 5\n",
    "        self.weight_type = weight_type\n",
    "        self.n_neighbors = n_neighbors\n",
    "        self.p = p\n",
    "        self.X = None\n",
    "        self.y = None\n",
    "        self.labels = None\n",
    "        self.regression = regression\n",
    "        self.normalize = normalize\n",
    "\n",
    "    def fit(self, X, y):\n",
    "        \"\"\" Fit the data; run the algorithm (for this lab really just saves the data :D)\n",
    "        Args:\n",
    "            X (array-like): A 2D numpy array with the training data, excluding targets\n",
    "            y (array-like): A 2D numpy array with the training targets\n",
    "        Returns:\n",
    "            self: this allows this to be chained, e.g. model.fit(X,y).predict(X_test)\n",
    "        \"\"\"\n",
    "        self.X_original = X\n",
    "        self.y_original = y\n",
    "        self.X = X\n",
    "        self.y = y\n",
    "        self.labels = np.unique(y)\n",
    "        return self\n",
    "    \n",
    "    def predict(self, data):\n",
    "        \"\"\" Predict all classes for a dataset X\n",
    "        Args:\n",
    "            X (array-like): A 2D numpy array with the training data, excluding targets\n",
    "        Returns:\n",
    "            array, shape (n_samples,)\n",
    "                Predicted target values per element in X.\n",
    "        \"\"\"\n",
    "        if self.normalize:\n",
    "            min_train = self.X.min(axis=0)\n",
    "            max_train = self.X.max(axis=0)\n",
    "            min_test = data.min(axis=0)\n",
    "            max_test = data.max(axis=0)\n",
    "            min = np.minimum(min_train, min_test)\n",
    "            max = np.maximum(max_train, max_test)\n",
    "            data = (data - min) / (max - min)\n",
    "            self.X = (self.X_original - min) / (max - min)\n",
    "            \n",
    "\n",
    "        predictions = np.empty(len(data), dtype=self.y.dtype)\n",
    "        for i, instance in enumerate(data):\n",
    "            predictions[i] = self.predict_instance(instance)\n",
    "            # TODO: remove these two lines\n",
    "            # self.X = np.vstack((self.X, instance))  # add the instance to the training data\n",
    "            # self.y = np.append(self.y, predictions[i])  # add the prediction to the training data\n",
    "        return predictions\n",
    "\n",
    "    #Returns the Mean score given input data and labels\n",
    "    def score(self, X, y):\n",
    "        \"\"\" Return accuracy of model on a given dataset. Must implement own score function.\n",
    "        Args:\n",
    "            X (array-like): A 2D numpy array with data, excluding targets\n",
    "            y (array-like): A 2D numpy array with targets\n",
    "        Returns:\n",
    "            score : float\n",
    "                Mean accuracy of self.predict(X) wrt. y.\n",
    "        \"\"\"\n",
    "        predictions = self.predict(X)\n",
    "        if self.regression:\n",
    "            diffs = predictions - y\n",
    "            mse = np.mean(np.square(predictions - y))\n",
    "            return np.mean(np.square(predictions - y))\n",
    "        else:\n",
    "            return np.sum(predictions == y) / len(y)\n",
    "    \n",
    "    def kronecker(self, a, b):\n",
    "        return 1 if a==b else 0\n",
    "\n",
    "    def get_best(self, neighbor_y, neighbor_distances):\n",
    "        \"\"\"\n",
    "        :param class_values: list of possible class values\n",
    "        :param neighbor_y: list of class values of the k nearest neighbors\n",
    "        :param neighbor_distances: list of distances to the k nearest neighbors\n",
    "        :param weight_type: type of weighting to use\n",
    "        :return: the class value with the highest sum of votes\n",
    "        \"\"\"\n",
    "        best_class = None\n",
    "        best_sum = -1\n",
    "        # loop through class values of the k nearest neighbors\n",
    "        for target in np.unique(neighbor_y):\n",
    "            if self.weight_type == 'inverse_distance':\n",
    "                sum = np.sum((1 / np.square(neighbor_distances)) * (neighbor_y == target))\n",
    "            else:\n",
    "                sum = np.sum(neighbor_y == target)\n",
    "                \n",
    "            if sum > best_sum:\n",
    "                best_sum = sum\n",
    "                best_class = target\n",
    "\n",
    "        # print(f'sum of votes for predicted class label: {best_sum}')\n",
    "        return best_class\n",
    "\n",
    "    def regressor(self, neighbors_y, neighbor_distances):\n",
    "        if self.weight_type == 'inverse_distance':\n",
    "            # weight each neighbor by the inverse of its distance\n",
    "            weights = (1 / np.square(neighbor_distances))\n",
    "            prediction = np.sum(weights * neighbors_y) / np.sum(weights)\n",
    "        else:\n",
    "            # all weights are 1 so the prediction is just the mean\n",
    "            prediction = np.mean(neighbors_y)\n",
    "        return prediction\n",
    "    \n",
    "    def get_distances(self, input):\n",
    "        distances = np.linalg.norm(self.X - input, ord=self.p, axis=1)\n",
    "        return distances\n",
    "\n",
    "    def get_neighbors(self, input):\n",
    "        distances = self.get_distances(input)\n",
    "        sorted_indices = np.argpartition(distances, kth=self.n_neighbors, axis=None)\n",
    "        neighbor_indices = sorted_indices[:self.n_neighbors]\n",
    "        y_neighbors = self.y[neighbor_indices]\n",
    "        distance_neighbors = distances[neighbor_indices]\n",
    "\n",
    "        return y_neighbors, distance_neighbors\n",
    "\n",
    "    def predict_instance(self, new):\n",
    "        y_neighbors, distances = self.get_neighbors(new)\n",
    "        if self.regression:\n",
    "            prediction = self.regressor(y_neighbors, distances)\n",
    "        else:\n",
    "            prediction = self.get_best(y_neighbors, distances)\n",
    "        return prediction\n",
    "    "
   ]
  },
  {
   "cell_type": "markdown",
   "metadata": {},
   "source": [
    "## 1.1 Debug and Evaluation\n",
    "\n",
    "Debug and Evaluate your model using the parameters below:\n",
    "\n",
    "- Use distance weighting\n",
    "- KNN = 3 (three nearest neighbors)\n",
    "- Don’t normalize the data\n",
    "- Use Euclidean Distance\n",
    "\n",
    "---\n",
    "\n",
    "### 1.1.1 Debug\n",
    "\n",
    "- Use this [glass training set](https://byu.instructure.com/courses/14142/files?preview=4660939) and this [glass test set](https://byu.instructure.com/courses/14142/files?preview=4660941)\n",
    "- Use distance weighting\n",
    "- KNN = 3 (three nearest neighbors)\n",
    "- Don’t normalize the data\n",
    "- Use Euclidean Distance\n",
    "\n",
    "Expected Results:\n",
    "- Not using inverse weighted distancing = roughly [68.29%]\n",
    "- Link to [glass no_inverse debug solution](https://byu.instructure.com/courses/14142/files?preview=4660947)\n",
    "\n",
    "- Using inverse weighted distancing = roughly [74.39%]\n",
    "- Link to [glass inverse debug solution](https://byu.instructure.com/courses/14142/files?preview=4660954)\n"
   ]
  },
  {
   "cell_type": "code",
   "execution_count": 127,
   "metadata": {},
   "outputs": [],
   "source": [
    "data = np.loadtxt('glass_inv_predictions.txt', dtype=str, delimiter=',', )"
   ]
  },
  {
   "cell_type": "code",
   "execution_count": null,
   "metadata": {},
   "outputs": [],
   "source": [
    "preds = np.array(['headlamps', 'build wind non-float', 'build wind float'\n",
    " 'build wind non-float', 'build wind float', 'headlamps', 'build wind float'\n",
    " 'containers', 'build wind float', 'build wind float', 'build wind non-float'\n",
    " 'build wind float', 'build wind non-float', 'build wind float'\n",
    " 'build wind float', 'build wind float', 'containers', 'build wind non-float'\n",
    " 'build wind float', 'build wind non-float', 'build wind non-float'\n",
    " 'build wind non-float', 'build wind non-float', 'vehic wind float'\n",
    " 'build wind non-float', 'build wind float', 'build wind float'\n",
    " 'build wind float', 'headlamps', 'build wind non-float', 'vehic wind float'\n",
    " 'build wind non-float', 'build wind non-float', 'build wind float'\n",
    " 'headlamps', 'containers', 'build wind non-float', 'build wind float'\n",
    " 'vehic wind float', 'build wind float', 'headlamps', 'build wind float'\n",
    " 'build wind non-float', 'build wind float', 'headlamps'\n",
    " 'build wind non-float', 'tableware', 'vehic wind float', 'build wind float'\n",
    " 'containers', 'build wind non-float', 'build wind non-float'\n",
    " 'vehic wind float', 'containers', 'build wind float', 'headlamps'\n",
    " 'build wind float', 'build wind float', 'build wind float', 'containers'\n",
    " 'build wind float', 'build wind float', 'tableware', 'headlamps'\n",
    " 'containers', 'build wind non-float', 'build wind non-float'\n",
    " 'build wind non-float', 'build wind non-float', 'build wind non-float'\n",
    " 'build wind float', 'vehic wind float', 'build wind float', 'headlamps'\n",
    " 'build wind float', 'headlamps', 'build wind non-float', 'build wind float'\n",
    " 'build wind non-float', 'build wind float', 'build wind non-float'\n",
    " 'tableware'])"
   ]
  },
  {
   "cell_type": "code",
   "execution_count": 99,
   "metadata": {},
   "outputs": [
    {
     "name": "stdout",
     "output_type": "stream",
     "text": [
      "accuracy not using inverse distance: 0.6829268292682927\n",
      "accuracy using inverse distance: 0.7439024390243902\n"
     ]
    }
   ],
   "source": [
    "# Load glass data\n",
    "X, y, names = arffLoader().arf_to_x_y('glass_train.arff', data_type=str)\n",
    "X = X.astype(float)\n",
    "\n",
    "X_test, y_test, names = arffLoader().arf_to_x_y('glass_test.arff', data_type=str)\n",
    "X_test = X_test.astype(float)\n",
    "\n",
    "# Train on training set\n",
    "# not using inverse distance\n",
    "clf = KNNClassifier(n_neighbors=3, weight_type='uniform', p=2, regression=False)\n",
    "clf.fit(X, y)\n",
    "score = clf.score(X_test, y_test)\n",
    "print(f'accuracy not using inverse distance: {score}')\n",
    "\n",
    "# using inverse distance\n",
    "clf_1 = KNNClassifier(n_neighbors=3, weight_type='inverse_distance', p=2, regression=False, normalize=False)\n",
    "clf_1.fit(X, y)\n",
    "score = clf_1.score(X_test, y_test)\n",
    "print(f'accuracy using inverse distance: {score}')"
   ]
  },
  {
   "cell_type": "markdown",
   "metadata": {},
   "source": [
    "### 1.1.2 Evaluate\n",
    "\n",
    "We will evaluate your model based on its performance on the [diabetes](https://archive.ics.uci.edu/ml/datasets/Diabetes) problem.\n",
    "- Use this [diabetes training set](https://byu.instructure.com/courses/14142/files?preview=4660977) and this [diabetes test set](https://byu.instructure.com/courses/14142/files?preview=4660978)"
   ]
  },
  {
   "cell_type": "code",
   "execution_count": 88,
   "metadata": {},
   "outputs": [
    {
     "name": "stdout",
     "output_type": "stream",
     "text": [
      "accuracy not using inverse distance: 0.8411458333333334\n",
      "accuracy using inverse distance: 0.890625\n"
     ]
    }
   ],
   "source": [
    "# Load diabetes data\n",
    "X, y, names = arffLoader().arf_to_x_y('diabetes_train.arff', data_type=str)\n",
    "X = X.astype(float)\n",
    "\n",
    "X_test, y_test, names = arffLoader().arf_to_x_y('diabetes_test.arff', data_type=str)\n",
    "X_test = X_test.astype(float)\n",
    "\n",
    "# not using inverse distance\n",
    "clf = KNNClassifier(n_neighbors=3, weight_type='uniform', p=2, regression=False)\n",
    "clf.fit(X, y)\n",
    "score = clf.score(X_test, y_test)\n",
    "print(f'accuracy not using inverse distance: {score}')\n",
    "\n",
    "# using inverse distance\n",
    "clf = KNNClassifier(n_neighbors=3, weight_type='inverse_distance', p=2, regression=False)\n",
    "clf.fit(X, y)\n",
    "score = clf.score(X_test, y_test)\n",
    "print(f'accuracy using inverse distance: {score}')\n"
   ]
  },
  {
   "cell_type": "markdown",
   "metadata": {
    "id": "9vWiTdlbR2Xh"
   },
   "source": [
    "## 2. (10%) Use the k-nearest neighbor algorithm (without distance weighting) for the [magic telescope](http://archive.ics.uci.edu/ml/datasets/MAGIC+Gamma+Telescope) problem\n",
    "\n",
    "- Use this [magic telescope training set](https://byu.instructure.com/courses/14142/files?preview=4660988) and this [magic telescope test set](https://byu.instructure.com/courses/14142/files?preview=4660989) \n",
    "\n",
    "### 2.1\n",
    "- Try it with k=3 and without normalization\n"
   ]
  },
  {
   "cell_type": "code",
   "execution_count": 135,
   "metadata": {
    "id": "4SSoasDQSKXb"
   },
   "outputs": [
    {
     "name": "stdout",
     "output_type": "stream",
     "text": [
      "accuracy without inverse distance: 0.8082808280828083\n"
     ]
    }
   ],
   "source": [
    "# Load magic telescope data\n",
    "X, y, names = arffLoader().arf_to_x_y('magic_telescope_train.arff', data_type=str)\n",
    "X = X.astype(float)\n",
    "\n",
    "X_test, y_test, names = arffLoader().arf_to_x_y('magic_telescope_test.arff', data_type=str)\n",
    "X_test = X_test.astype(float)\n",
    "\n",
    "# Train/Predict without normalization\n",
    "clf = KNNClassifier(n_neighbors=3, weight_type='uniform', p=2, regression=False, normalize=False)\n",
    "clf.fit(X, y)\n",
    "score = clf.score(X_test, y_test)\n",
    "print(f'accuracy without inverse distance: {score}')\n"
   ]
  },
  {
   "cell_type": "markdown",
   "metadata": {},
   "source": [
    "### 2.2\n",
    "- Try it with k=3 and with normalization (input features normalized between 0 and 1). Use the normalization formula (x-xmin)/(xmax-xmin)"
   ]
  },
  {
   "cell_type": "code",
   "execution_count": 139,
   "metadata": {},
   "outputs": [
    {
     "name": "stdout",
     "output_type": "stream",
     "text": [
      "accuracy w/ normalization: 0.8304830483048304\n"
     ]
    }
   ],
   "source": [
    "X, y, names = arffLoader().arf_to_x_y('magic_telescope_train.arff', data_type=str)\n",
    "X = X.astype(float)\n",
    "\n",
    "X_test, y_test, names = arffLoader().arf_to_x_y('magic_telescope_test.arff', data_type=str)\n",
    "X_test = X_test.astype(float)\n",
    "\n",
    "# Train/Predict with normalization\n",
    "clf = KNNClassifier(n_neighbors=3, weight_type='uniform', p=2, regression=False, normalize=True)\n",
    "clf.fit(X, y)\n",
    "score = clf.score(X_test, y_test)\n",
    "print(f'accuracy w/ normalization: {score}')"
   ]
  },
  {
   "cell_type": "markdown",
   "metadata": {},
   "source": [
    "*Discuss the accuracy results of using normalized data vs. unnormalized data*"
   ]
  },
  {
   "cell_type": "markdown",
   "metadata": {},
   "source": [
    "### 2.3\n",
    "\n",
    "- Using your normalized data, create one graph with classification accuracy on the test set over k values. \n",
    "    - Use odd values of k from 1 to 15.\n",
    "- As a rough sanity check, typical knn accuracies for the magic telescope data set are 75-85%"
   ]
  },
  {
   "cell_type": "code",
   "execution_count": 137,
   "metadata": {},
   "outputs": [
    {
     "name": "stdout",
     "output_type": "stream",
     "text": [
      "[0.8099309930993099, 0.8304830483048304, 0.8432343234323433, 0.8421842184218422, 0.8451845184518452, 0.845934593459346, 0.8438343834383438, 0.8436843684368437]\n"
     ]
    },
    {
     "data": {
      "image/png": "[encoded data removed]",
      "text/plain": [
       "<Figure size 640x480 with 1 Axes>"
      ]
     },
     "metadata": {},
     "output_type": "display_data"
    }
   ],
   "source": [
    "X, y, names = arffLoader().arf_to_x_y('magic_telescope_train.arff', data_type=str)\n",
    "X = X.astype(float)\n",
    "\n",
    "X_test, y_test, names = arffLoader().arf_to_x_y('magic_telescope_test.arff', data_type=str)\n",
    "X_test = X_test.astype(float)\n",
    "\n",
    "# Train/Predict with normalization using k=1,3,...,15\n",
    "scores = []\n",
    "k_values = [ k for k in range(1, 16, 2) ]\n",
    "for k in k_values:\n",
    "    clf = KNNClassifier(n_neighbors=k, weight_type='uniform', p=2, regression=False, normalize=True)\n",
    "    clf.fit(X, y)\n",
    "    score = clf.score(X_test, y_test)\n",
    "    scores.append(score)\n",
    "    \n",
    "print(scores)\n",
    "# Graph classification accuracy over k\n",
    "plt.plot(k_values, scores)\n",
    "plt.xlabel('k')\n",
    "plt.ylabel('accuracy')\n",
    "plt.title('Classification Accuracy vs. k')\n",
    "plt.show()"
   ]
  },
  {
   "cell_type": "markdown",
   "metadata": {},
   "source": [
    "# For the rest of the experiments use only normalized data"
   ]
  },
  {
   "cell_type": "markdown",
   "metadata": {
    "id": "SIRG42TgSR4x"
   },
   "source": [
    "## 3. (10%) Use the regression variation of your algorithm (without distance weighting) for the [housing price prediction](https://www.cs.toronto.edu/~delve/data/boston/bostonDetail.html) problem.\n",
    "\n",
    "- Use this [housing training set](https://byu.instructure.com/courses/14142/files?preview=4660994) and this [housing test set](https://byu.instructure.com/courses/14142/files?preview=4660995).\n",
    "- Use Mean Square Error (MSE) on the test set as your accuracy metric for this case.\n",
    "    - Do not normalize regression output values\n",
    "- Graph MSE on the test set with odd values of k from 1 to 15\n"
   ]
  },
  {
   "cell_type": "code",
   "execution_count": 151,
   "metadata": {
    "id": "KBGUn43ASiXW"
   },
   "outputs": [
    {
     "name": "stdout",
     "output_type": "stream",
     "text": [
      "[24.617254901960784, 16.598692810457518, 15.654439215686272, 19.093317326930766, 20.724105543451948, 23.418262842327017, 24.53476969486019, 24.384255337690632]\n"
     ]
    },
    {
     "data": {
      "image/png": "[encoded data removed]",
      "text/plain": [
       "<Figure size 640x480 with 1 Axes>"
      ]
     },
     "metadata": {},
     "output_type": "display_data"
    }
   ],
   "source": [
    "# Load housing price prediction data\n",
    "X, y, names = arffLoader().arf_to_x_y('housing_train.arff', data_type=float)\n",
    "\n",
    "X_test, y_test, names = arffLoader().arf_to_x_y('housing_test.arff', data_type=float)\n",
    "\n",
    "# Train/Predict using k=1,3,...,15\n",
    "scores = []\n",
    "k_values = [ k for k in range(1, 16, 2) ]\n",
    "for k in k_values:\n",
    "    clf = KNNClassifier(n_neighbors=k, weight_type='uniform', p=2, regression=True, normalize=True)\n",
    "    clf.fit(X, y)\n",
    "    score = clf.score(X_test, y_test)\n",
    "    scores.append(score)\n",
    "    \n",
    "print(scores)\n",
    "# Graph classification accuracy over k\n",
    "plt.plot(k_values, scores)\n",
    "plt.xlabel('k')\n",
    "plt.ylabel('MSE')\n",
    "plt.title('Classification MSE vs. k')\n",
    "plt.show()\n",
    "# Graph MSE over k\n"
   ]
  },
  {
   "cell_type": "markdown",
   "metadata": {
    "id": "v19fpixqTe-7"
   },
   "source": [
    "## 4. (15%) Repeat your experiments for magic telescope and housing using distance-weighted (inverse of distance squared) voting and discuss your results.\n"
   ]
  },
  {
   "cell_type": "markdown",
   "metadata": {},
   "source": [
    "## 4.1 Magic Telescope Dataset"
   ]
  },
  {
   "cell_type": "code",
   "execution_count": 152,
   "metadata": {
    "id": "ZCPFUAGTS2sX"
   },
   "outputs": [
    {
     "name": "stderr",
     "output_type": "stream",
     "text": [
      "C:\\Users\\BYU Rental\\AppData\\Local\\Temp\\ipykernel_37332\\2951644985.py:95: RuntimeWarning: divide by zero encountered in divide\n",
      "  sum = np.sum((1 / np.square(neighbor_distances)) * (neighbor_y == target))\n",
      "C:\\Users\\BYU Rental\\AppData\\Local\\Temp\\ipykernel_37332\\2951644985.py:95: RuntimeWarning: invalid value encountered in multiply\n",
      "  sum = np.sum((1 / np.square(neighbor_distances)) * (neighbor_y == target))\n"
     ]
    },
    {
     "name": "stdout",
     "output_type": "stream",
     "text": [
      "[0.8099309930993099, 0.8316831683168316, 0.8448844884488449, 0.84998499849985, 0.848034803480348, 0.8513351335133513, 0.8505850585058505, 0.8508850885088509]\n"
     ]
    },
    {
     "data": {
      "image/png": "[encoded data removed]",
      "text/plain": [
       "<Figure size 640x480 with 1 Axes>"
      ]
     },
     "metadata": {},
     "output_type": "display_data"
    }
   ],
   "source": [
    "# Train/Predict magic telescope using distance-weighted voting\n",
    "X, y, names = arffLoader().arf_to_x_y('magic_telescope_train.arff', data_type=str)\n",
    "X = X.astype(float)\n",
    "\n",
    "X_test, y_test, names = arffLoader().arf_to_x_y('magic_telescope_test.arff', data_type=str)\n",
    "X_test = X_test.astype(float)\n",
    "\n",
    "# Train/Predict with normalization using k=1,3,...,15\n",
    "scores = []\n",
    "k_values = [ k for k in range(1, 16, 2) ]\n",
    "for k in k_values:\n",
    "    clf = KNNClassifier(n_neighbors=k, weight_type='inverse_distance', p=2, regression=False, normalize=True)\n",
    "    clf.fit(X, y)\n",
    "    score = clf.score(X_test, y_test)\n",
    "    scores.append(score)\n",
    "    \n",
    "print(scores)\n",
    "# Graph classification accuracy over k\n",
    "plt.plot(k_values, scores)\n",
    "plt.xlabel('k')\n",
    "plt.ylabel('accuracy')\n",
    "plt.title('Classification Accuracy vs. k')\n",
    "plt.show()"
   ]
  },
  {
   "cell_type": "markdown",
   "metadata": {},
   "source": [
    "## 4.2 Housing Dataset"
   ]
  },
  {
   "cell_type": "code",
   "execution_count": 153,
   "metadata": {},
   "outputs": [
    {
     "name": "stdout",
     "output_type": "stream",
     "text": [
      "[24.617254901960784, 16.294702431167742, 11.903946906365874, 10.770952575034784, 11.331357432559866, 11.44098857162627, 11.602299865930169, 11.929935864665262]\n"
     ]
    },
    {
     "data": {
      "image/png": "[encoded data removed]",
      "text/plain": [
       "<Figure size 640x480 with 1 Axes>"
      ]
     },
     "metadata": {},
     "output_type": "display_data"
    }
   ],
   "source": [
    "# Train/Predict housing using distance-weighted voting\n",
    "X, y, names = arffLoader().arf_to_x_y('housing_train.arff', data_type=float)\n",
    "\n",
    "X_test, y_test, names = arffLoader().arf_to_x_y('housing_test.arff', data_type=float)\n",
    "\n",
    "# Train/Predict using k=1,3,...,15\n",
    "scores = []\n",
    "k_values = [ k for k in range(1, 16, 2) ]\n",
    "for k in k_values:\n",
    "    clf = KNNClassifier(n_neighbors=k, weight_type='inverse_distance', p=2, regression=True, normalize=True)\n",
    "    clf.fit(X, y)\n",
    "    score = clf.score(X_test, y_test)\n",
    "    scores.append(score)\n",
    "    \n",
    "print(scores)\n",
    "# Graph classification accuracy over k\n",
    "plt.plot(k_values, scores)\n",
    "plt.xlabel('k')\n",
    "plt.ylabel('MSE')\n",
    "plt.title('Classification MSE vs. k')\n",
    "plt.show()\n",
    "# Graph MSE over k\n"
   ]
  },
  {
   "cell_type": "markdown",
   "metadata": {},
   "source": [
    "*Discuss your results*"
   ]
  },
  {
   "cell_type": "markdown",
   "metadata": {},
   "source": [
    "## 5. (10%) Use the k-nearest neighbor algorithm to solve the [credit-approval](https://archive.ics.uci.edu/ml/datasets/Credit+Approval) (credit-a) problem.\n",
    "\n",
    "- Use this [credit approval dataset](https://byu.instructure.com/courses/14142/files?preview=4660998)\n",
    "    - Use a 70/30 split of the data for the training/test set\n",
    "- Note that this set has both continuous and nominal attributes, together with don’t know values. \n",
    "- Implement and justify a distance metric which supports continuous, nominal, and don’t know attribute values\n",
    "    - You need to handle don't knows with the distance metric, not by imputing a value.\n",
    "    - More information on distance metrics can be found [here](https://www.jair.org/index.php/jair/article/view/10182/24168).\n",
    "- Use your own choice for k.\n",
    "- As a rough sanity check, typical knn accuracies for the credit data set are 70-80%.\n"
   ]
  },
  {
   "cell_type": "code",
   "execution_count": 155,
   "metadata": {},
   "outputs": [
    {
     "ename": "UFuncTypeError",
     "evalue": "ufunc 'minimum' did not contain a loop with signature matching types (dtype('<U32'), dtype('<U32')) -> None",
     "output_type": "error",
     "traceback": [
      "\u001b[1;31m---------------------------------------------------------------------------\u001b[0m",
      "\u001b[1;31mUFuncTypeError\u001b[0m                            Traceback (most recent call last)",
      "Cell \u001b[1;32mIn[155], line 10\u001b[0m\n\u001b[0;32m      8\u001b[0m clf \u001b[39m=\u001b[39m KNNClassifier(n_neighbors\u001b[39m=\u001b[39m\u001b[39m12\u001b[39m, weight_type\u001b[39m=\u001b[39m\u001b[39m'\u001b[39m\u001b[39minverse-distance\u001b[39m\u001b[39m'\u001b[39m, p\u001b[39m=\u001b[39m\u001b[39m2\u001b[39m, regression\u001b[39m=\u001b[39m\u001b[39mFalse\u001b[39;00m, normalize\u001b[39m=\u001b[39m\u001b[39mTrue\u001b[39;00m)\n\u001b[0;32m      9\u001b[0m clf\u001b[39m.\u001b[39mfit(X, y)\n\u001b[1;32m---> 10\u001b[0m score \u001b[39m=\u001b[39m clf\u001b[39m.\u001b[39;49mscore(X_test, y_test)\n\u001b[0;32m     11\u001b[0m \u001b[39mprint\u001b[39m(\u001b[39mf\u001b[39m\u001b[39m'\u001b[39m\u001b[39maccuracy: \u001b[39m\u001b[39m{\u001b[39;00mscore\u001b[39m}\u001b[39;00m\u001b[39m'\u001b[39m)\n",
      "Cell \u001b[1;32mIn[113], line 70\u001b[0m, in \u001b[0;36mKNNClassifier.score\u001b[1;34m(self, X, y)\u001b[0m\n\u001b[0;32m     61\u001b[0m \u001b[39mdef\u001b[39;00m \u001b[39mscore\u001b[39m(\u001b[39mself\u001b[39m, X, y):\n\u001b[0;32m     62\u001b[0m \u001b[39m    \u001b[39m\u001b[39m\"\"\" Return accuracy of model on a given dataset. Must implement own score function.\u001b[39;00m\n\u001b[0;32m     63\u001b[0m \u001b[39m    Args:\u001b[39;00m\n\u001b[0;32m     64\u001b[0m \u001b[39m        X (array-like): A 2D numpy array with data, excluding targets\u001b[39;00m\n\u001b[1;32m   (...)\u001b[0m\n\u001b[0;32m     68\u001b[0m \u001b[39m            Mean accuracy of self.predict(X) wrt. y.\u001b[39;00m\n\u001b[0;32m     69\u001b[0m \u001b[39m    \"\"\"\u001b[39;00m\n\u001b[1;32m---> 70\u001b[0m     predictions \u001b[39m=\u001b[39m \u001b[39mself\u001b[39;49m\u001b[39m.\u001b[39;49mpredict(X)\n\u001b[0;32m     71\u001b[0m     \u001b[39mif\u001b[39;00m \u001b[39mself\u001b[39m\u001b[39m.\u001b[39mregression:\n\u001b[0;32m     72\u001b[0m         diffs \u001b[39m=\u001b[39m predictions \u001b[39m-\u001b[39m y\n",
      "Cell \u001b[1;32mIn[113], line 42\u001b[0m, in \u001b[0;36mKNNClassifier.predict\u001b[1;34m(self, data)\u001b[0m\n\u001b[0;32m     34\u001b[0m \u001b[39m\u001b[39m\u001b[39m\"\"\" Predict all classes for a dataset X\u001b[39;00m\n\u001b[0;32m     35\u001b[0m \u001b[39mArgs:\u001b[39;00m\n\u001b[0;32m     36\u001b[0m \u001b[39m    X (array-like): A 2D numpy array with the training data, excluding targets\u001b[39;00m\n\u001b[1;32m   (...)\u001b[0m\n\u001b[0;32m     39\u001b[0m \u001b[39m        Predicted target values per element in X.\u001b[39;00m\n\u001b[0;32m     40\u001b[0m \u001b[39m\"\"\"\u001b[39;00m\n\u001b[0;32m     41\u001b[0m \u001b[39mif\u001b[39;00m \u001b[39mself\u001b[39m\u001b[39m.\u001b[39mnormalize:\n\u001b[1;32m---> 42\u001b[0m     min_train \u001b[39m=\u001b[39m \u001b[39mself\u001b[39;49m\u001b[39m.\u001b[39;49mX\u001b[39m.\u001b[39;49mmin(axis\u001b[39m=\u001b[39;49m\u001b[39m0\u001b[39;49m)\n\u001b[0;32m     43\u001b[0m     max_train \u001b[39m=\u001b[39m \u001b[39mself\u001b[39m\u001b[39m.\u001b[39mX\u001b[39m.\u001b[39mmax(axis\u001b[39m=\u001b[39m\u001b[39m0\u001b[39m)\n\u001b[0;32m     44\u001b[0m     min_test \u001b[39m=\u001b[39m data\u001b[39m.\u001b[39mmin(axis\u001b[39m=\u001b[39m\u001b[39m0\u001b[39m)\n",
      "File \u001b[1;32mc:\\Users\\BYU Rental\\1. BYU_computer\\CS 472\\Labs\\k-nearest-neighbors\\venv\\lib\\site-packages\\numpy\\core\\_methods.py:45\u001b[0m, in \u001b[0;36m_amin\u001b[1;34m(a, axis, out, keepdims, initial, where)\u001b[0m\n\u001b[0;32m     43\u001b[0m \u001b[39mdef\u001b[39;00m \u001b[39m_amin\u001b[39m(a, axis\u001b[39m=\u001b[39m\u001b[39mNone\u001b[39;00m, out\u001b[39m=\u001b[39m\u001b[39mNone\u001b[39;00m, keepdims\u001b[39m=\u001b[39m\u001b[39mFalse\u001b[39;00m,\n\u001b[0;32m     44\u001b[0m           initial\u001b[39m=\u001b[39m_NoValue, where\u001b[39m=\u001b[39m\u001b[39mTrue\u001b[39;00m):\n\u001b[1;32m---> 45\u001b[0m     \u001b[39mreturn\u001b[39;00m umr_minimum(a, axis, \u001b[39mNone\u001b[39;49;00m, out, keepdims, initial, where)\n",
      "\u001b[1;31mUFuncTypeError\u001b[0m: ufunc 'minimum' did not contain a loop with signature matching types (dtype('<U32'), dtype('<U32')) -> None"
     ]
    }
   ],
   "source": [
    "# Load dataset and split into train/test sets\n",
    "X, y, names = arffLoader().arf_to_x_y('credit_approval.arff', data_type=str)\n",
    "\n",
    "X_train, X_test, y_train, y_test = train_test_split(X, y, test_size=0.3, random_state=1, shuffle=True)\n",
    "\n",
    "\n",
    "# Train/Predict credit-approval\n",
    "clf = KNNClassifier(n_neighbors=12, weight_type='inverse-distance', p=2, regression=False, normalize=True)\n",
    "clf.fit(X, y)\n",
    "score = clf.score(X_test, y_test)\n",
    "print(f'accuracy: {score}')\n",
    "\n"
   ]
  },
  {
   "cell_type": "markdown",
   "metadata": {},
   "source": [
    "*Explain and justify your distance metric*"
   ]
  },
  {
   "cell_type": "markdown",
   "metadata": {
    "id": "oBBmeNQ7jvcQ"
   },
   "source": [
    "## 6. (15%) Use the scikit's KNN Classifier on magic telescope and KNN Regressor on housing and compare your results.\n",
    "\n",
    "- Try out different hyperparameters to see how well you can do. \n"
   ]
  },
  {
   "cell_type": "code",
   "execution_count": null,
   "metadata": {
    "id": "OFQv70W2VyqJ"
   },
   "outputs": [],
   "source": [
    "# Train/Predict magic telescope using scikit's KNN\n",
    "\n",
    "# Train/Predict housing using scikit's KNN\n"
   ]
  },
  {
   "cell_type": "markdown",
   "metadata": {
    "id": "BqSFAXwlk3Ms"
   },
   "source": [
    "*Report your comparison*"
   ]
  },
  {
   "cell_type": "markdown",
   "metadata": {
    "id": "cTlK-kijk8Mg"
   },
   "source": [
    "## 7. (optional 5% extra credit): For the best value of k for any one of the datasets, implement a reduction algorithm that removes data points in some rational way such that performance does not drop too drastically on the test set given the reduced training set.\n",
    "\n",
    "- Compare your performance on the test set for the reduced and non-reduced versions and give the number (and percentage) of training examples removed from the original training set. How well does your reduction algorithm work?\n",
    "    - Note that performance for magic telescope is classification accuracy and for housing it is mean squared error.\n",
    "    - Magic Telescope has about 12,000 instances and if you use a leave one out style of testing for your data set reduction, then your algorithm will run slow since that is n2 at each step.\n",
    "    - If you wish, you may use a random subset of 2,000 of the magic telescope instances.\n",
    "    - Examples of reduction techniques include: (a) leave-one-out reduction - Drop instance if it would still be classified correctly, (b) growth algorithm - Only add instance if it is not already classified correctly, (c) just keep central points, (d) just keep border points, etc. (see Wilson, D. R. and Martinez, T. R., Reduction Techniques for Exemplar-Based Learning Algorithms, Machine Learning Journal, vol. 38, no. 3, pp. 257-286, 2000)."
   ]
  }
 ],
 "metadata": {
  "colab": {
   "collapsed_sections": [],
   "name": "lab 1 - perceptron",
   "provenance": []
  },
  "kernelspec": {
   "display_name": "Python 3",
   "language": "python",
   "name": "python3"
  },
  "language_info": {
   "codemirror_mode": {
    "name": "ipython",
    "version": 3
   },
   "file_extension": ".py",
   "mimetype": "text/x-python",
   "name": "python",
   "nbconvert_exporter": "python",
   "pygments_lexer": "ipython3",
   "version": "3.9.5"
  }
 },
 "nbformat": 4,
 "nbformat_minor": 4
}
